{
 "cells": [
  {
   "cell_type": "code",
   "execution_count": 1,
   "metadata": {},
   "outputs": [],
   "source": [
    "import numpy as np\n",
    "from collections import Counter"
   ]
  },
  {
   "cell_type": "code",
   "execution_count": 2,
   "metadata": {},
   "outputs": [],
   "source": [
    "import pandas as pd\n",
    "import math"
   ]
  },
  {
   "cell_type": "code",
   "execution_count": 3,
   "metadata": {},
   "outputs": [],
   "source": [
    "from sklearn import datasets"
   ]
  },
  {
   "cell_type": "code",
   "execution_count": 4,
   "metadata": {},
   "outputs": [],
   "source": [
    "iris=datasets.load_iris()"
   ]
  },
  {
   "cell_type": "code",
   "execution_count": 5,
   "metadata": {},
   "outputs": [],
   "source": [
    "data=iris.data\n",
    "target=iris.target"
   ]
  },
  {
   "cell_type": "code",
   "execution_count": 6,
   "metadata": {},
   "outputs": [],
   "source": [
    "from sklearn.model_selection import train_test_split"
   ]
  },
  {
   "cell_type": "code",
   "execution_count": 7,
   "metadata": {},
   "outputs": [],
   "source": [
    "x_train,x_test,y_train,y_test=train_test_split(data,target,test_size=0.2)"
   ]
  },
  {
   "cell_type": "code",
   "execution_count": 8,
   "metadata": {},
   "outputs": [
    {
     "data": {
      "text/plain": [
       "(120, 4)"
      ]
     },
     "execution_count": 8,
     "metadata": {},
     "output_type": "execute_result"
    }
   ],
   "source": [
    "x_train.shape"
   ]
  },
  {
   "cell_type": "code",
   "execution_count": 9,
   "metadata": {},
   "outputs": [
    {
     "data": {
      "text/plain": [
       "(30, 4)"
      ]
     },
     "execution_count": 9,
     "metadata": {},
     "output_type": "execute_result"
    }
   ],
   "source": [
    "x_test.shape"
   ]
  },
  {
   "cell_type": "code",
   "execution_count": 10,
   "metadata": {},
   "outputs": [
    {
     "name": "stdout",
     "output_type": "stream",
     "text": [
      "Predicted:  0 Actual:  0\n",
      "Predicted:  2 Actual:  2\n",
      "Predicted:  0 Actual:  0\n",
      "Predicted:  1 Actual:  1\n",
      "Predicted:  0 Actual:  0\n",
      "Predicted:  2 Actual:  2\n",
      "Predicted:  1 Actual:  1\n",
      "Predicted:  0 Actual:  0\n",
      "Predicted:  0 Actual:  0\n",
      "Predicted:  0 Actual:  0\n",
      "Predicted:  2 Actual:  2\n",
      "Predicted:  1 Actual:  1\n",
      "Predicted:  2 Actual:  2\n",
      "Predicted:  2 Actual:  2\n",
      "Predicted:  2 Actual:  2\n",
      "Predicted:  1 Actual:  1\n",
      "Predicted:  2 Actual:  2\n",
      "Predicted:  0 Actual:  0\n",
      "Predicted:  0 Actual:  0\n",
      "Predicted:  2 Actual:  1\n",
      "Predicted:  1 Actual:  1\n",
      "Predicted:  0 Actual:  0\n",
      "Predicted:  1 Actual:  1\n",
      "Predicted:  2 Actual:  2\n",
      "Predicted:  0 Actual:  0\n",
      "Predicted:  1 Actual:  1\n",
      "Predicted:  2 Actual:  2\n",
      "Predicted:  1 Actual:  1\n",
      "Predicted:  0 Actual:  0\n",
      "Predicted:  1 Actual:  1\n"
     ]
    }
   ],
   "source": [
    "k=6\n",
    "count1=0;\n",
    "for i in range(x_test.shape[0]):\n",
    "    dict1={}\n",
    "    for j in range(x_train.shape[0]):\n",
    "        dist=((x_test[i]-x_train[j])**2).sum()\n",
    "        dist=math.sqrt(dist)\n",
    "        dict1[dist]=y_train[j]\n",
    "    dict1=sorted(dict1.items())\n",
    "    votes=[]\n",
    "    for p in range(k):\n",
    "        votes.append(dict1[p][1])\n",
    "    v=Counter(votes).most_common(1)[0][0]\n",
    "    if(v==y_test[i]):\n",
    "        count1+=1\n",
    "    print(\"Predicted: \",v,\"Actual: \",y_test[i])"
   ]
  },
  {
   "cell_type": "code",
   "execution_count": 11,
   "metadata": {},
   "outputs": [],
   "source": [
    "accuracy=count1/x_test.shape[0]\n"
   ]
  },
  {
   "cell_type": "code",
   "execution_count": 12,
   "metadata": {},
   "outputs": [
    {
     "data": {
      "text/plain": [
       "0.9666666666666667"
      ]
     },
     "execution_count": 12,
     "metadata": {},
     "output_type": "execute_result"
    }
   ],
   "source": [
    "accuracy"
   ]
  },
  {
   "cell_type": "code",
   "execution_count": 13,
   "metadata": {},
   "outputs": [
    {
     "data": {
      "text/plain": [
       "29"
      ]
     },
     "execution_count": 13,
     "metadata": {},
     "output_type": "execute_result"
    }
   ],
   "source": [
    "count1"
   ]
  },
  {
   "cell_type": "code",
   "execution_count": 14,
   "metadata": {},
   "outputs": [
    {
     "data": {
      "text/plain": [
       "(30, 4)"
      ]
     },
     "execution_count": 14,
     "metadata": {},
     "output_type": "execute_result"
    }
   ],
   "source": [
    "x_test.shape"
   ]
  },
  {
   "cell_type": "code",
   "execution_count": 15,
   "metadata": {},
   "outputs": [],
   "source": [
    "clusters=3"
   ]
  },
  {
   "cell_type": "code",
   "execution_count": 16,
   "metadata": {},
   "outputs": [],
   "source": [
    "from sklearn.cluster import KMeans"
   ]
  },
  {
   "cell_type": "code",
   "execution_count": 17,
   "metadata": {},
   "outputs": [],
   "source": [
    "clf1=KMeans(n_clusters=3)"
   ]
  },
  {
   "cell_type": "code",
   "execution_count": 18,
   "metadata": {},
   "outputs": [
    {
     "data": {
      "text/plain": [
       "KMeans(algorithm='auto', copy_x=True, init='k-means++', max_iter=300,\n",
       "    n_clusters=3, n_init=10, n_jobs=1, precompute_distances='auto',\n",
       "    random_state=None, tol=0.0001, verbose=0)"
      ]
     },
     "execution_count": 18,
     "metadata": {},
     "output_type": "execute_result"
    }
   ],
   "source": [
    "clf1.fit(x_train,y_train)"
   ]
  },
  {
   "cell_type": "code",
   "execution_count": 19,
   "metadata": {},
   "outputs": [
    {
     "data": {
      "text/plain": [
       "array([[5.914     , 2.726     , 4.394     , 1.424     ],\n",
       "       [6.82580645, 3.05806452, 5.72903226, 2.06774194],\n",
       "       [5.01025641, 3.45641026, 1.46410256, 0.24358974]])"
      ]
     },
     "execution_count": 19,
     "metadata": {},
     "output_type": "execute_result"
    }
   ],
   "source": [
    "clf1.cluster_centers_"
   ]
  },
  {
   "cell_type": "code",
   "execution_count": null,
   "metadata": {},
   "outputs": [],
   "source": []
  },
  {
   "cell_type": "code",
   "execution_count": null,
   "metadata": {},
   "outputs": [],
   "source": []
  },
  {
   "cell_type": "code",
   "execution_count": 20,
   "metadata": {},
   "outputs": [
    {
     "data": {
      "text/plain": [
       "array([2, 0, 2, 0, 2, 1, 0, 2, 2, 2, 1, 0, 1, 0, 1, 0, 1, 2, 2, 0, 0, 2,\n",
       "       0, 0, 2, 1, 1, 0, 2, 0], dtype=int32)"
      ]
     },
     "execution_count": 20,
     "metadata": {},
     "output_type": "execute_result"
    }
   ],
   "source": [
    "clf1.predict(x_test)"
   ]
  },
  {
   "cell_type": "code",
   "execution_count": null,
   "metadata": {},
   "outputs": [],
   "source": [
    "\n"
   ]
  },
  {
   "cell_type": "code",
   "execution_count": 23,
   "metadata": {},
   "outputs": [],
   "source": [
    "x=data"
   ]
  },
  {
   "cell_type": "code",
   "execution_count": 24,
   "metadata": {},
   "outputs": [],
   "source": [
    "flag=1\n"
   ]
  },
  {
   "cell_type": "code",
   "execution_count": 25,
   "metadata": {},
   "outputs": [
    {
     "name": "stdout",
     "output_type": "stream",
     "text": [
      "[6.5 3.  5.5 1.8]   [5.6 3.  4.5 1.5]   [6.1 2.6 5.6 1.4]\n",
      "[6.63695652173913, 2.9804347826086954, 5.478260869565216, 1.978260869565217]   [5.352000000000001, 3.056000000000001, 2.81, 0.7899999999999997]   [5.142857142857143, 2.2, 4.4, 1.4000000000000001]\n",
      "\n",
      "[6.63695652173913, 2.9804347826086954, 5.478260869565216, 1.978260869565217]   [5.352000000000001, 3.056000000000001, 2.81, 0.7899999999999997]   [5.142857142857143, 2.2, 4.4, 1.4000000000000001]\n",
      "[6.5107692307692275, 2.9661538461538464, 5.267692307692308, 1.8599999999999994]   [4.939285714285715, 3.2785714285714294, 1.6053571428571427, 0.3142857142857142]   [5.521874999999998, 2.553125, 4.109375, 1.2906250000000001]\n",
      "\n",
      "[6.5107692307692275, 2.9661538461538464, 5.267692307692308, 1.8599999999999994]   [4.939285714285715, 3.2785714285714294, 1.6053571428571427, 0.3142857142857142]   [5.521874999999998, 2.553125, 4.109375, 1.2906250000000001]\n",
      "[6.484848484848482, 2.9454545454545453, 5.27878787878788, 1.8742424242424238]   [4.907843137254901, 3.3509803921568633, 1.4352941176470588, 0.23921568627450973]   [5.505555555555555, 2.5777777777777775, 3.9500000000000006, 1.2194444444444443]\n",
      "\n",
      "[6.484848484848482, 2.9454545454545453, 5.27878787878788, 1.8742424242424238]   [4.907843137254901, 3.3509803921568633, 1.4352941176470588, 0.23921568627450973]   [5.505555555555555, 2.5777777777777775, 3.9500000000000006, 1.2194444444444443]\n",
      "[6.473529411764703, 2.944117647058824, 5.260294117647059, 1.8573529411764702]   [4.907843137254901, 3.3509803921568633, 1.4352941176470588, 0.23921568627450973]   [5.470588235294117, 2.5588235294117645, 3.908823529411765, 1.214705882352941]\n",
      "\n",
      "[6.473529411764703, 2.944117647058824, 5.260294117647059, 1.8573529411764702]   [4.907843137254901, 3.3509803921568633, 1.4352941176470588, 0.23921568627450973]   [5.470588235294117, 2.5588235294117645, 3.908823529411765, 1.214705882352941]\n",
      "[6.473529411764703, 2.944117647058824, 5.260294117647059, 1.8573529411764702]   [4.907843137254901, 3.3509803921568633, 1.4352941176470588, 0.23921568627450973]   [5.470588235294117, 2.5588235294117645, 3.908823529411765, 1.214705882352941]\n",
      "\n",
      "[6.473529411764703, 2.944117647058824, 5.260294117647059, 1.8573529411764702]   [4.907843137254901, 3.3509803921568633, 1.4352941176470588, 0.23921568627450973]   [5.470588235294117, 2.5588235294117645, 3.908823529411765, 1.214705882352941]\n",
      "[6.473529411764703, 2.944117647058824, 5.260294117647059, 1.8573529411764702]   [4.907843137254901, 3.3509803921568633, 1.4352941176470588, 0.23921568627450973]   [5.470588235294117, 2.5588235294117645, 3.908823529411765, 1.214705882352941]\n",
      "\n",
      "[6.473529411764703, 2.944117647058824, 5.260294117647059, 1.8573529411764702]   [4.907843137254901, 3.3509803921568633, 1.4352941176470588, 0.23921568627450973]   [5.470588235294117, 2.5588235294117645, 3.908823529411765, 1.214705882352941]\n",
      "[6.473529411764703, 2.944117647058824, 5.260294117647059, 1.8573529411764702]   [4.907843137254901, 3.3509803921568633, 1.4352941176470588, 0.23921568627450973]   [5.470588235294117, 2.5588235294117645, 3.908823529411765, 1.214705882352941]\n",
      "\n",
      "[6.473529411764703, 2.944117647058824, 5.260294117647059, 1.8573529411764702]   [4.907843137254901, 3.3509803921568633, 1.4352941176470588, 0.23921568627450973]   [5.470588235294117, 2.5588235294117645, 3.908823529411765, 1.214705882352941]\n",
      "[6.473529411764703, 2.944117647058824, 5.260294117647059, 1.8573529411764702]   [4.907843137254901, 3.3509803921568633, 1.4352941176470588, 0.23921568627450973]   [5.470588235294117, 2.5588235294117645, 3.908823529411765, 1.214705882352941]\n",
      "\n",
      "[6.473529411764703, 2.944117647058824, 5.260294117647059, 1.8573529411764702]   [4.907843137254901, 3.3509803921568633, 1.4352941176470588, 0.23921568627450973]   [5.470588235294117, 2.5588235294117645, 3.908823529411765, 1.214705882352941]\n",
      "[6.473529411764703, 2.944117647058824, 5.260294117647059, 1.8573529411764702]   [4.907843137254901, 3.3509803921568633, 1.4352941176470588, 0.23921568627450973]   [5.470588235294117, 2.5588235294117645, 3.908823529411765, 1.214705882352941]\n",
      "\n",
      "[6.473529411764703, 2.944117647058824, 5.260294117647059, 1.8573529411764702]   [4.907843137254901, 3.3509803921568633, 1.4352941176470588, 0.23921568627450973]   [5.470588235294117, 2.5588235294117645, 3.908823529411765, 1.214705882352941]\n",
      "[6.473529411764703, 2.944117647058824, 5.260294117647059, 1.8573529411764702]   [4.907843137254901, 3.3509803921568633, 1.4352941176470588, 0.23921568627450973]   [5.470588235294117, 2.5588235294117645, 3.908823529411765, 1.214705882352941]\n",
      "\n",
      "[6.473529411764703, 2.944117647058824, 5.260294117647059, 1.8573529411764702]   [4.907843137254901, 3.3509803921568633, 1.4352941176470588, 0.23921568627450973]   [5.470588235294117, 2.5588235294117645, 3.908823529411765, 1.214705882352941]\n",
      "[6.473529411764703, 2.944117647058824, 5.260294117647059, 1.8573529411764702]   [4.907843137254901, 3.3509803921568633, 1.4352941176470588, 0.23921568627450973]   [5.470588235294117, 2.5588235294117645, 3.908823529411765, 1.214705882352941]\n",
      "\n"
     ]
    }
   ],
   "source": [
    "count1=0\n",
    "c1=x_train[0]\n",
    "c2=x_train[1]\n",
    "c3=x_train[2]\n",
    "while(count1<=10):\n",
    "    list1=[]\n",
    "    list2=[]\n",
    "    list3=[]\n",
    "    for i in range(x.shape[0]):\n",
    "        dist1=((x[i]-c1)**2).sum()\n",
    "        dist2=((x[i]-c2)**2).sum()\n",
    "        dist3=((x[i]-c3)**2).sum()\n",
    "#         print(dist1,\" \",dist2,\" \",dist3)\n",
    "        if(dist1<=dist2 and dist1<=dist3):\n",
    "            point=dist1\n",
    "            list1.append(x[i])\n",
    "        if(dist2<=dist3 and dist2<=dist1):\n",
    "            point=dist2\n",
    "            list2.append(x[i])\n",
    "        if(dist3<=dist2 and dist3<=dist1):\n",
    "            point=dist3\n",
    "            list3.append(x[i])\n",
    "    cl1=[]\n",
    "    cl2=[]\n",
    "    cl3=[]\n",
    "    cl4=[]\n",
    "    \n",
    "    for i in list1:\n",
    "        cl1.append(i[0])\n",
    "        cl2.append(i[1])\n",
    "        cl3.append(i[2])\n",
    "        cl4.append(i[3])\n",
    "#         print(i)\n",
    "    new1=sum(cl1)/(len(cl1)+1)\n",
    "    new2=sum(cl2)/(len(cl2)+1)\n",
    "    new3=sum(cl3)/(len(cl3)+1)\n",
    "    new4=sum(cl4)/(len(cl4)+1)\n",
    "    newpoint1=[new1,new2,new3,new4]\n",
    "    \n",
    "    \n",
    "    cl1=[]\n",
    "    cl2=[]\n",
    "    cl3=[]\n",
    "    cl4=[]\n",
    "    \n",
    "    for i in list2:\n",
    "        cl1.append(i[0])\n",
    "        cl2.append(i[1])\n",
    "        cl3.append(i[2])\n",
    "        cl4.append(i[3])\n",
    "#         print(cl1)\n",
    "    new1=sum(cl1)/(len(cl1)+1)\n",
    "    new2=sum(cl2)/(len(cl2)+1)\n",
    "    new3=sum(cl3)/(len(cl3)+1)\n",
    "    new4=sum(cl4)/(len(cl4)+1)\n",
    "    newpoint2=[new1,new2,new3,new4]\n",
    "    \n",
    "    cl1=[]\n",
    "    cl2=[]\n",
    "    cl3=[]\n",
    "    cl4=[]\n",
    "    \n",
    "    for i in list3:\n",
    "        cl1.append(i[0])\n",
    "        cl2.append(i[1])\n",
    "        cl3.append(i[2])\n",
    "        cl4.append(i[3])\n",
    "    new1=sum(cl1)/(len(cl1)+1)\n",
    "    new2=sum(cl2)/(len(cl2)+1)\n",
    "    new3=sum(cl3)/(len(cl3)+1)\n",
    "    new4=sum(cl4)/(len(cl4)+1)\n",
    "    newpoint3=[new1,new2,new3,new4]\n",
    "    print(c1,\" \",c2,\" \",c3)\n",
    "    c1=newpoint1\n",
    "    c2=newpoint2\n",
    "    c3=newpoint3\n",
    "    print(c1,\" \",c2,\" \",c3)\n",
    "\n",
    "\n",
    "    print()\n",
    "    count1+=1;\n",
    "            \n",
    "        \n",
    "            \n",
    "            \n",
    "        \n",
    "        \n",
    "    \n",
    "    \n",
    "    \n",
    "    "
   ]
  },
  {
   "cell_type": "code",
   "execution_count": 26,
   "metadata": {},
   "outputs": [
    {
     "data": {
      "text/plain": [
       "[6.473529411764703, 2.944117647058824, 5.260294117647059, 1.8573529411764702]"
      ]
     },
     "execution_count": 26,
     "metadata": {},
     "output_type": "execute_result"
    }
   ],
   "source": [
    "c1"
   ]
  },
  {
   "cell_type": "code",
   "execution_count": 27,
   "metadata": {},
   "outputs": [
    {
     "data": {
      "text/plain": [
       "[4.907843137254901,\n",
       " 3.3509803921568633,\n",
       " 1.4352941176470588,\n",
       " 0.23921568627450973]"
      ]
     },
     "execution_count": 27,
     "metadata": {},
     "output_type": "execute_result"
    }
   ],
   "source": [
    "c2"
   ]
  },
  {
   "cell_type": "code",
   "execution_count": 28,
   "metadata": {},
   "outputs": [
    {
     "data": {
      "text/plain": [
       "[5.470588235294117, 2.5588235294117645, 3.908823529411765, 1.214705882352941]"
      ]
     },
     "execution_count": 28,
     "metadata": {},
     "output_type": "execute_result"
    }
   ],
   "source": [
    "c3"
   ]
  },
  {
   "cell_type": "code",
   "execution_count": 29,
   "metadata": {},
   "outputs": [],
   "source": [
    "y=target"
   ]
  },
  {
   "cell_type": "code",
   "execution_count": 30,
   "metadata": {},
   "outputs": [
    {
     "name": "stdout",
     "output_type": "stream",
     "text": [
      "0  1\n",
      "0  1\n",
      "0  1\n",
      "0  1\n",
      "0  1\n",
      "0  1\n",
      "0  1\n",
      "0  1\n",
      "0  1\n",
      "0  1\n",
      "0  1\n",
      "0  1\n",
      "0  1\n",
      "0  1\n",
      "0  1\n",
      "0  1\n",
      "0  1\n",
      "0  1\n",
      "0  1\n",
      "0  1\n",
      "0  1\n",
      "0  1\n",
      "0  1\n",
      "0  1\n",
      "0  1\n",
      "0  1\n",
      "0  1\n",
      "0  1\n",
      "0  1\n",
      "0  1\n",
      "0  1\n",
      "0  1\n",
      "0  1\n",
      "0  1\n",
      "0  1\n",
      "0  1\n",
      "0  1\n",
      "0  1\n",
      "0  1\n",
      "0  1\n",
      "0  1\n",
      "0  1\n",
      "0  1\n",
      "0  1\n",
      "0  1\n",
      "0  1\n",
      "0  1\n",
      "0  1\n",
      "0  1\n",
      "0  1\n",
      "1  0\n",
      "1  0\n",
      "1  0\n",
      "1  2\n",
      "1  0\n",
      "1  2\n",
      "1  0\n",
      "1  2\n",
      "1  0\n",
      "1  2\n",
      "1  2\n",
      "1  2\n",
      "1  2\n",
      "1  0\n",
      "1  2\n",
      "1  0\n",
      "1  2\n",
      "1  2\n",
      "1  2\n",
      "1  2\n",
      "1  0\n",
      "1  2\n",
      "1  0\n",
      "1  0\n",
      "1  2\n",
      "1  0\n",
      "1  0\n",
      "1  0\n",
      "1  2\n",
      "1  2\n",
      "1  2\n",
      "1  2\n",
      "1  2\n",
      "1  0\n",
      "1  2\n",
      "1  0\n",
      "1  0\n",
      "1  2\n",
      "1  2\n",
      "1  2\n",
      "1  2\n",
      "1  0\n",
      "1  2\n",
      "1  2\n",
      "1  2\n",
      "1  2\n",
      "1  2\n",
      "1  2\n",
      "1  2\n",
      "1  2\n",
      "2  0\n",
      "2  0\n",
      "2  0\n",
      "2  0\n",
      "2  0\n",
      "2  0\n",
      "2  2\n",
      "2  0\n",
      "2  0\n",
      "2  0\n",
      "2  0\n",
      "2  0\n",
      "2  0\n",
      "2  0\n",
      "2  0\n",
      "2  0\n",
      "2  0\n",
      "2  0\n",
      "2  0\n",
      "2  0\n",
      "2  0\n",
      "2  0\n",
      "2  0\n",
      "2  0\n",
      "2  0\n",
      "2  0\n",
      "2  0\n",
      "2  0\n",
      "2  0\n",
      "2  0\n",
      "2  0\n",
      "2  0\n",
      "2  0\n",
      "2  0\n",
      "2  0\n",
      "2  0\n",
      "2  0\n",
      "2  0\n",
      "2  0\n",
      "2  0\n",
      "2  0\n",
      "2  0\n",
      "2  0\n",
      "2  0\n",
      "2  0\n",
      "2  0\n",
      "2  0\n",
      "2  0\n",
      "2  0\n",
      "2  0\n"
     ]
    }
   ],
   "source": [
    "list1=[]\n",
    "list2=[]\n",
    "list3=[]\n",
    "for i in range(x.shape[0]):\n",
    "        dist1=((x[i]-c1)**2).sum()\n",
    "        dist2=((x[i]-c2)**2).sum()\n",
    "        dist3=((x[i]-c3)**2).sum()\n",
    "#         print(dist1,\" \",dist2,\" \",dist3)\n",
    "        if(dist1<dist2 and dist1<dist3):\n",
    "            print(y[i],\" 0\")\n",
    "        elif(dist2<dist1 and dist2<dist3):\n",
    "            print(y[i],\" 1\")\n",
    "        else:\n",
    "            print(y[i],\" 2\")"
   ]
  },
  {
   "cell_type": "code",
   "execution_count": null,
   "metadata": {},
   "outputs": [],
   "source": []
  },
  {
   "cell_type": "code",
   "execution_count": null,
   "metadata": {},
   "outputs": [],
   "source": []
  }
 ],
 "metadata": {
  "kernelspec": {
   "display_name": "Python 3",
   "language": "python",
   "name": "python3"
  },
  "language_info": {
   "codemirror_mode": {
    "name": "ipython",
    "version": 3
   },
   "file_extension": ".py",
   "mimetype": "text/x-python",
   "name": "python",
   "nbconvert_exporter": "python",
   "pygments_lexer": "ipython3",
   "version": "3.6.5"
  }
 },
 "nbformat": 4,
 "nbformat_minor": 2
}
